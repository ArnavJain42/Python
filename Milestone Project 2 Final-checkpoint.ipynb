{
 "cells": [
  {
   "cell_type": "code",
   "execution_count": 160,
   "id": "fd355779",
   "metadata": {},
   "outputs": [],
   "source": [
    "suits = ('Hearts', 'Diamonds', 'Spades', 'Clubs')\n",
    "ranks = ('Two', 'Three', 'Four', 'Five', 'Six', 'Seven', 'Eight', 'Nine', 'Ten', 'Jack', 'Queen', 'King', 'Ace')\n",
    "values = {'Two':2, 'Three':3, 'Four':4, 'Five':5, 'Six':6, 'Seven':7, 'Eight':8, \n",
    "            'Nine':9, 'Ten':10, 'Jack':10, 'Queen':10, 'King':10, 'Ace':11}"
   ]
  },
  {
   "cell_type": "code",
   "execution_count": 161,
   "id": "18779783",
   "metadata": {},
   "outputs": [],
   "source": [
    "import random "
   ]
  },
  {
   "cell_type": "code",
   "execution_count": 162,
   "id": "957146f3",
   "metadata": {},
   "outputs": [],
   "source": [
    "class Cards:\n",
    "    def __init__(self,suit,rank):\n",
    "        self.suit=suit\n",
    "        self.rank=rank\n",
    "        self.value=values[rank]\n",
    "    def __str__(self):\n",
    "        return self.rank+\" of \"+self.suit"
   ]
  },
  {
   "cell_type": "code",
   "execution_count": 163,
   "id": "2aeda7e7",
   "metadata": {},
   "outputs": [],
   "source": [
    "class Deck:\n",
    "    def __init__(self):\n",
    "        self.all_cards = []\n",
    "        for suit in suits:\n",
    "            for rank in ranks:\n",
    "                self.all_cards.append(Cards(suit,rank))\n",
    "        random.shuffle(self.all_cards)     \n",
    "    def deal_one(self):\n",
    "        return self.all_cards.pop()"
   ]
  },
  {
   "cell_type": "code",
   "execution_count": 164,
   "id": "fe12e2f3",
   "metadata": {},
   "outputs": [],
   "source": [
    "class Player:\n",
    "    def __init__(self,name,balance):\n",
    "        self.name=name\n",
    "        self.balance=balance\n",
    "        self.hand=[]\n",
    "    def __str__(self):\n",
    "        return (f'player name: {self.name}\\nplayer balance: {self.balance}')"
   ]
  },
  {
   "cell_type": "raw",
   "id": "2631b512",
   "metadata": {},
   "source": []
  },
  {
   "cell_type": "code",
   "execution_count": 165,
   "id": "713d046e",
   "metadata": {},
   "outputs": [],
   "source": [
    "Pilla = Player(\"arnav\",10000)"
   ]
  },
  {
   "cell_type": "code",
   "execution_count": 166,
   "id": "01e0e311",
   "metadata": {},
   "outputs": [
    {
     "name": "stdout",
     "output_type": "stream",
     "text": [
      "player name: arnav\n",
      "player balance: 10000\n",
      "<class 'int'>\n"
     ]
    }
   ],
   "source": [
    "print(Pilla)\n",
    "print(type(Pilla.balance))"
   ]
  },
  {
   "cell_type": "code",
   "execution_count": 182,
   "id": "7684e4ef",
   "metadata": {},
   "outputs": [
    {
     "name": "stdout",
     "output_type": "stream",
     "text": [
      "Enter your Name\n",
      "Arnav\n",
      "Enter your Bank Balance\n",
      "1000\n"
     ]
    }
   ],
   "source": [
    "Player1 = Player(input(\"Enter your Name\\n\"),int(input(\"Enter your Bank Balance\\n\")))"
   ]
  },
  {
   "cell_type": "code",
   "execution_count": 183,
   "id": "3bfe1719",
   "metadata": {},
   "outputs": [],
   "source": [
    "def print_sum(hand):\n",
    "    total=0\n",
    "    for i in hand:\n",
    "        total+=i.value\n",
    "    return total"
   ]
  },
  {
   "cell_type": "code",
   "execution_count": 184,
   "id": "cb8846d1",
   "metadata": {},
   "outputs": [],
   "source": [
    "def print_cards(dealer_hand,player_hand,hidden):\n",
    "    if(hidden==True):\n",
    "        print(\"Dealers Cards 1 Hidden: \")\n",
    "        for i in range(1,len(dealer_hand)):\n",
    "            print(dealer_hand[i])\n",
    "        \n",
    "    else:\n",
    "        print(\"Dealer Cards: \")\n",
    "        for i in dealer_hand:\n",
    "            print(i)\n",
    "    print(\"\")\n",
    "    print(\"Player cards:\")\n",
    "    for i in player_hand:\n",
    "        print(i)"
   ]
  },
  {
   "cell_type": "code",
   "execution_count": 192,
   "id": "190e69c2",
   "metadata": {
    "scrolled": true
   },
   "outputs": [
    {
     "name": "stdout",
     "output_type": "stream",
     "text": [
      "player name: Arnav\n",
      "player balance: 1000\n",
      "enter your bet amount500\n",
      "Dealing the Initial Cards\n",
      "Player Sum: \n",
      "17\n",
      "\n",
      "Dealers Cards 1 Hidden: \n",
      "Eight of Diamonds\n",
      "\n",
      "Player cards:\n",
      "Seven of Spades\n",
      "Jack of Spades\n",
      "\n",
      "hit:0, deal more:1 0\n",
      "\n",
      "\n",
      "player sum is :  17\n",
      "Dealer sum is :  19\n",
      "\n",
      "Dealer Cards: \n",
      "Ace of Spades\n",
      "Eight of Diamonds\n",
      "\n",
      "Player cards:\n",
      "Seven of Spades\n",
      "Jack of Spades\n",
      "dealer lost\n",
      "\n",
      "player sum is :  17\n",
      "Dealer sum is :  28\n",
      "\n",
      "Dealer Cards: \n",
      "Ace of Spades\n",
      "Eight of Diamonds\n",
      "Nine of Diamonds\n",
      "\n",
      "Player cards:\n",
      "Seven of Spades\n",
      "Jack of Spades\n"
     ]
    }
   ],
   "source": [
    "new_deck = Deck()\n",
    "game_on=True\n",
    "print(Player1)\n",
    "bet = int(input(\"enter your bet amount\"))\n",
    "Player1.balance = Player1.balance - bet\n",
    "print(\"Dealing the Initial Cards\")\n",
    "dealer_hand=[]\n",
    "dealer_hand.append(new_deck.deal_one())\n",
    "dealer_hand.append(new_deck.deal_one())\n",
    "Player1.hand.append(new_deck.deal_one())\n",
    "Player1.hand.append(new_deck.deal_one())\n",
    "print(\"Player Sum: \")\n",
    "print(print_sum(Player1.hand))\n",
    "print(\"\")\n",
    "print_cards(dealer_hand,Player1.hand,True)\n",
    "print(\"\")\n",
    "while(game_on):\n",
    "    mode = int(input(\"hit:0, deal more:1 \"))\n",
    "    print(\"\")\n",
    "    if(mode==1):\n",
    "        a = new_deck.deal_one()\n",
    "        if(a.value==11):\n",
    "            b = bool(input(\"Do you want ace as 1 \"))\n",
    "            if(b):\n",
    "                a.value=1\n",
    "                Player1.hand.append(a)\n",
    "            else:\n",
    "                Player1.hand.append(a)\n",
    "        else:\n",
    "            Player1.hand.append(a)\n",
    "        print_cards(dealer_hand,Player1.hand,True)\n",
    "        print(\"\")\n",
    "        print(\"Player Sum: \")\n",
    "        print(print_sum(Player1.hand))\n",
    "        print(\"\")\n",
    "        if(print_sum(Player1.hand)>21):\n",
    "            print(\"player lost\")\n",
    "            print(\"\")\n",
    "            print(\"player sum is : \",print_sum(Player1.hand))\n",
    "            print(\"Dealer sum is : \",print_sum(dealer_hand))\n",
    "            print(\"\")\n",
    "            print_cards(dealer_hand,Player1.hand,False)\n",
    "            game_on=False\n",
    "            break\n",
    "        \n",
    "    elif(mode==0):\n",
    "        dealer_mode=True\n",
    "        print(\"\")\n",
    "        print(\"player sum is : \",print_sum(Player1.hand))\n",
    "        print(\"Dealer sum is : \",print_sum(dealer_hand))\n",
    "        print(\"\")\n",
    "        \n",
    "        while(dealer_mode):            \n",
    "            print_cards(dealer_hand,Player1.hand,False)\n",
    "            a = new_deck.deal_one()\n",
    "            if(a.value==11):\n",
    "                if(print_sum(dealer_hand)>10):\n",
    "                    a.value=1\n",
    "                    dealer_hand.append(a)\n",
    "                else:\n",
    "                    dealer_hand.append(a)\n",
    "            else:\n",
    "                dealer_hand.append(a)\n",
    "            if((print_sum(dealer_hand)>21)):\n",
    "        \n",
    "                print(\"dealer lost\")\n",
    "                print(\"\")\n",
    "                print(\"player sum is : \",print_sum(Player1.hand))\n",
    "                print(\"Dealer sum is : \",print_sum(dealer_hand))\n",
    "                print(\"\")\n",
    "                print_cards(dealer_hand,Player1.hand,False)\n",
    "                \n",
    "                Player1.balance += 2*bet\n",
    "                dealer_mode=False\n",
    "                game_on=False\n",
    "                break\n",
    "                \n",
    "            if((print_sum(dealer_hand)>16)):\n",
    "                a = new_deck.deal_one()\n",
    "                if(a.value==11):\n",
    "                    if(print_sum(dealer_hand)>10):\n",
    "                        a.value=1\n",
    "                        Player1.hand.append(a)\n",
    "                    else:\n",
    "                        Player1.hand.append(a)\n",
    "                \n",
    "                if((print_sum(dealer_hand)>21)):\n",
    "                    print(\"dealer lost\")\n",
    "                    print(\"\")\n",
    "                    print(\"player sum is : \",print_sum(Player1.hand))\n",
    "                    print(\"Dealer sum is : \",print_sum(dealer_hand))\n",
    "                    print(\"\")\n",
    "                    print_cards(dealer_hand,Player1.hand,False)\n",
    "                    Player1.balance += 2*bet\n",
    "                    dealer_mode=False\n",
    "                    game_on=False\n",
    "                    break\n",
    "                \n",
    "                if(print_sum(dealer_hand)>print_sum(Player1.hand)):\n",
    "                    print(\"Dealer Won\")\n",
    "                    print(\"\")\n",
    "                    print(\"player sum is : \",print_sum(Player1.hand))\n",
    "                    print(\"Dealer sum is : \",print_sum(dealer_hand))\n",
    "                    print(\"\")\n",
    "                    print_cards(dealer_hand,Player1.hand,False)\n",
    "                    dealer_mode=False\n",
    "                    game_on=False\n",
    "                    break\n",
    "                else:\n",
    "                    print(\"player Won\")\n",
    "                    print(\"\")\n",
    "                    print(\"player sum is : \",print_sum(Player1.hand))\n",
    "                    print(\"Dealer sum is : \",print_sum(dealer_hand))\n",
    "                    print(\"\")\n",
    "                    print_cards(dealer_hand,Player1.hand,False)\n",
    "                    Player1.balance += 2*bet\n",
    "                    dealer_mode=False\n",
    "                    game_on=False\n",
    "                    break\n",
    "Player1.hand = []\n",
    "dealer_hand = []"
   ]
  },
  {
   "cell_type": "code",
   "execution_count": null,
   "id": "a5bf1504",
   "metadata": {},
   "outputs": [],
   "source": []
  }
 ],
 "metadata": {
  "kernelspec": {
   "display_name": "Python 3 (ipykernel)",
   "language": "python",
   "name": "python3"
  },
  "language_info": {
   "codemirror_mode": {
    "name": "ipython",
    "version": 3
   },
   "file_extension": ".py",
   "mimetype": "text/x-python",
   "name": "python",
   "nbconvert_exporter": "python",
   "pygments_lexer": "ipython3",
   "version": "3.9.12"
  }
 },
 "nbformat": 4,
 "nbformat_minor": 5
}
